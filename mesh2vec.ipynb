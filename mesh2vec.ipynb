{
 "cells": [
  {
   "cell_type": "code",
   "execution_count": 112,
   "metadata": {},
   "outputs": [],
   "source": [
    "import torch\n",
    "from torch import nn\n",
    "from torch.utils.data import Dataset, DataLoader, SubsetRandomSampler\n",
    "import pandas as pd\n",
    "import numpy as np\n",
    "import random\n",
    "import collections\n",
    "import csv\n",
    "from sklearn.model_selection import train_test_split, KFold"
   ]
  },
  {
   "cell_type": "code",
   "execution_count": 45,
   "metadata": {},
   "outputs": [],
   "source": [
    "def create_ancestors_dict(path_to_ancestors, path_to_weights=None):\n",
    "    \"\"\"_summary_\n",
    "\n",
    "    Args:\n",
    "        path_to_ancestors (string): path to the ancestors file\n",
    "        path_to_weights (string, optional): path to the weight file. Defaults to None, uniform.\n",
    "\n",
    "    Returns:\n",
    "        dict: ancestors dict d[MESH][ancestors] for the ancestors list and d[MESH][proba] for the associated probabilities\n",
    "    \"\"\"\n",
    "\n",
    "    ancestors_dict = collections.defaultdict(dict)\n",
    "\n",
    "    # From ancestors csv file to dict\n",
    "    ancestors = pd.read_csv(path_to_ancestors)\n",
    "    pre_ancestors_dict = ancestors.groupby('MESH')['MESH_ANCESTOR'].apply(list).to_dict()\n",
    "\n",
    "    # Create weight dict\n",
    "    weights = dict()\n",
    "    if path_to_weights:\n",
    "        weights = pd.read_csv(path_to_weights).groupby(\"MESH\")[\"TOTAL_PMID_MESH\"].apply(int).to_dict()\n",
    "\n",
    "    # browse ancestors and insert weights\n",
    "    for mesh, ancestors in pre_ancestors_dict.items():\n",
    "\n",
    "        # Add the MeSH itselft to the list of ancestors\n",
    "        ancestors_dict[mesh][\"ancestors\"] = ancestors\n",
    "        inverse_weights = [1/(weights.get(ancestor, 0) + 1) for ancestor in ancestors]\n",
    "        ancestors_dict[mesh][\"proba\"] = [w/sum(inverse_weights) for w in inverse_weights]\n",
    "\n",
    "    return ancestors_dict"
   ]
  },
  {
   "cell_type": "code",
   "execution_count": 110,
   "metadata": {},
   "outputs": [
    {
     "name": "stdout",
     "output_type": "stream",
     "text": [
      "{'ancestors': ['D010084', 'D004734', 'D008660', 'D055598'], 'proba': [0.25, 0.25, 0.25, 0.25]}\n"
     ]
    }
   ],
   "source": [
    "ancestors_dict = create_ancestors_dict(\"data/mesh_ancestors.csv\", \"data/mesh_pmids_count.csv\")\n",
    "print(ancestors_dict[\"D010084\"])"
   ]
  },
  {
   "cell_type": "code",
   "execution_count": 89,
   "metadata": {},
   "outputs": [],
   "source": [
    "def create_samples(n, data, w, ancestors):\n",
    "    \"\"\"\n",
    "    n(int): nombre d'exemples à générer\n",
    "    data(fichier format CSV): les pmids avec les mesh annotés\n",
    "    w(int): taille de la fenêtre, nombre de meshs pour le contexte\n",
    "    ancestors(dico {mesh:poids}): ancêtres du mesh dans arbre\n",
    "    \"\"\"\n",
    "    \n",
    "    context = []\n",
    "    target = []\n",
    "    \n",
    "    df = pd.read_csv(data)\n",
    "    pmids = [id for id in df[\"PMID\"].unique()]\n",
    "    if n > len(pmids):\n",
    "        print(\"Warning : n > number of pmids in data\")\n",
    "        n = len(pmids)\n",
    "\n",
    "    i = 0\n",
    "    while i < n:\n",
    "        pmid = random.choice(pmids)\n",
    "        if len(pmids) == 0:\n",
    "            i = n\n",
    "        mesh = df[df[\"PMID\"] == pmid][\"MESH\"].to_list()\n",
    "\n",
    "        # target = 1 mesh au hasard\n",
    "        mesh_target = mesh.pop(random.randrange(len(mesh)))\n",
    "        mesh_target = random.choices(ancestors[mesh_target][\"ancestors\"], weights=ancestors[mesh_target][\"proba\"], k=1)\n",
    "        target.append(mesh_target)\n",
    "\n",
    "        # contexte = w mesh au hasard\n",
    "        if w > len(mesh):\n",
    "            # supprimer\n",
    "            target.pop()\n",
    "        else:\n",
    "            mesh_context = [mesh.pop(random.randrange(len(mesh))) for j in range(w)]\n",
    "            mesh_context = [random.choices(ancestors[m][\"ancestors\"], weights=ancestors[m][\"proba\"], k=1)[0] for m in mesh_context]\n",
    "            context.append(mesh_context)\n",
    "            i += 1\n",
    "            \n",
    "    with open(\"data/context.csv\", \"w\") as f:\n",
    "        write = csv.writer(f)\n",
    "        write.writerows(context)\n",
    "    with open(\"data/target.csv\", \"w\") as f:\n",
    "        write = csv.writer(f)\n",
    "        write.writerows(target)"
   ]
  },
  {
   "cell_type": "code",
   "execution_count": 111,
   "metadata": {},
   "outputs": [],
   "source": [
    "create_samples(1000, \"data/sample_pmid_mesh.csv\", 6, ancestors_dict)"
   ]
  },
  {
   "cell_type": "code",
   "execution_count": 49,
   "metadata": {},
   "outputs": [],
   "source": [
    "class MyDataset(Dataset):\n",
    "    def __init__(self, context, target, vocab):\n",
    "        \"\"\"\n",
    "        context(liste de liste): mesh du contexte\n",
    "        target(liste): mesh cible\n",
    "        vocab(dico {mesh:indice_du_1}) : indice du 1 pour le one shot vector qui représente le mesh\n",
    "        \"\"\"\n",
    "        self.context = context\n",
    "        self.target = target\n",
    "        self.vocab = vocab\n",
    "        \n",
    "    def __len__(self):\n",
    "        # taille vocab\n",
    "        return len(self.target)\n",
    "        \n",
    "    def __getitem__(self, idx):\n",
    "        if idx >= self.__len__():\n",
    "            print(\"Error : index out of bounds\")\n",
    "            return None\n",
    "            \n",
    "        vector_target = np.zeros(len(self.vocab))\n",
    "        vector_target[self.vocab[self.target[idx][0]]] = 1\n",
    "        \n",
    "        vector_context = np.zeros(len(self.vocab))\n",
    "        for mesh in self.context[idx]:\n",
    "            vector_context[self.vocab[mesh]] += 1\n",
    "            \n",
    "        return vector_context, vector_target\n",
    "        "
   ]
  },
  {
   "cell_type": "code",
   "execution_count": 116,
   "metadata": {},
   "outputs": [],
   "source": [
    "class MeSH2VecDataset(Dataset):\n",
    "    \"\"\"\n",
    "    Create a Dataset for MeSH2VecDataset\n",
    "\n",
    "    Args:\n",
    "        f_input (str): path to the input file. A comma separated csv file where each line correspond to a context\n",
    "        f_target (str): path to the target file. A csv file where each line correspond to target MeSH. Must be the same number of lines as in the context file.\n",
    "        f_vocab (str): path to the vocabulary file. A csv file, one line by MeSH. The line number will five the id of the MeSH in the vocab.\n",
    "        f_labels (str): path to the labels file. A two columns csv file, with MeSH identifier in the first column and the corresponding label in the second \n",
    "\n",
    "    Return: a list of two tensors: (tensor of length w corresponding to the context input ids, tensor of length 1 corresponding to the id of the target MeSH)\n",
    "    \"\"\"\n",
    "\n",
    "\n",
    "    def __init__(self, f_input, f_target, f_vocab, f_labels):\n",
    "        self.input = self.read(f_input).tolist()\n",
    "        self.target = self.read(f_target).squeeze().tolist()\n",
    "        self.vocab = self.read_vocab(f_vocab)\n",
    "        self.vocab_size = len(self.vocab)\n",
    "        self.inverse_vocab = {v: k for k, v in self.vocab.items()}\n",
    "        self.labels = self.mesh2label_dict(f_labels)\n",
    "        self.n = len(self.input)\n",
    "        self.w = len(self.input[0])\n",
    "\n",
    "    def __len__(self):\n",
    "        return self.n\n",
    "\n",
    "    def __getitem__(self, index):\n",
    "        x = torch.tensor([self.vocab[m] for m in self.input[index]], dtype=torch.int32)\n",
    "        y = torch.tensor(self.vocab[self.target[index]], dtype=torch.int32)\n",
    "        return x, y\n",
    "\n",
    "    def read(self, path):\n",
    "        f = pd.read_csv(path, header=None, dtype=str)\n",
    "        return f.values\n",
    "\n",
    "    def read_vocab(self, f_vocab):\n",
    "        v = self.read(f_vocab).squeeze().tolist()\n",
    "\n",
    "        # Check that all input are in vocab:\n",
    "        flat_input = list(np.concatenate(self.input).flat)\n",
    "        if not all([j in v for j in flat_input]):\n",
    "            print(\"[WARNING] Some MeSH in input are not in the vocabulary\")\n",
    "        \n",
    "        if not all([j in v for j in self.target]):\n",
    "            print(\"[WARNING] Some MeSH in target are not in the vocabulary\")\n",
    "        \n",
    "        return dict(zip(v, range(len(v))))\n",
    "\n",
    "    def mesh2label_dict(self, f_labels):\n",
    "        labels = self.read(f_labels)\n",
    "        return dict(zip(labels[:,0].tolist(), labels[:,1].tolist()))\n",
    "    \n",
    "    def tensor2labels(self, t):\n",
    "        return [self.labels.get(self.inverse_vocab.get(int(i), \"NaN\"), \"No label Found\") for i in t]\n",
    "\n"
   ]
  },
  {
   "cell_type": "code",
   "execution_count": 128,
   "metadata": {},
   "outputs": [],
   "source": [
    "dataset = MeSH2VecDataset(\"data/context.csv\", \"data/target.csv\", \"data/mesh_vocab.csv\", \"data/mesh_labels.csv\")"
   ]
  },
  {
   "cell_type": "code",
   "execution_count": 129,
   "metadata": {},
   "outputs": [],
   "source": [
    "dataset = MeSH2VecDataset(f_input=\"data/context.csv\", f_target=\"data/target.csv\", f_vocab=\"data/mesh_vocab.csv\", f_labels=\"data/mesh_labels.csv\")\n",
    "dataloader = DataLoader(dataset, 100)"
   ]
  },
  {
   "cell_type": "code",
   "execution_count": 92,
   "metadata": {},
   "outputs": [
    {
     "data": {
      "text/plain": [
       "(tensor([2030, 2100, 3386, 9868, 8831, 6433], dtype=torch.int32),\n",
       " tensor(6436, dtype=torch.int32))"
      ]
     },
     "execution_count": 92,
     "metadata": {},
     "output_type": "execute_result"
    }
   ],
   "source": [
    "dataset[0]"
   ]
  },
  {
   "cell_type": "code",
   "execution_count": 93,
   "metadata": {},
   "outputs": [
    {
     "name": "stdout",
     "output_type": "stream",
     "text": [
      "0\n",
      "torch.Size([100, 6])\n",
      "torch.Size([100])\n",
      "1\n",
      "torch.Size([100, 6])\n",
      "torch.Size([100])\n",
      "2\n",
      "torch.Size([100, 6])\n",
      "torch.Size([100])\n",
      "3\n",
      "torch.Size([100, 6])\n",
      "torch.Size([100])\n",
      "4\n",
      "torch.Size([100, 6])\n",
      "torch.Size([100])\n",
      "5\n",
      "torch.Size([100, 6])\n",
      "torch.Size([100])\n",
      "6\n",
      "torch.Size([100, 6])\n",
      "torch.Size([100])\n",
      "7\n",
      "torch.Size([100, 6])\n",
      "torch.Size([100])\n",
      "8\n",
      "torch.Size([100, 6])\n",
      "torch.Size([100])\n",
      "9\n",
      "torch.Size([100, 6])\n",
      "torch.Size([100])\n"
     ]
    }
   ],
   "source": [
    "for i, j in enumerate(dataloader):\n",
    "    print(i)\n",
    "    print(j[0].shape)\n",
    "    print(j[1].shape)"
   ]
  },
  {
   "cell_type": "code",
   "execution_count": 114,
   "metadata": {
    "scrolled": true
   },
   "outputs": [
    {
     "name": "stdout",
     "output_type": "stream",
     "text": [
      "Train : 900\n",
      "Test : 100\n",
      "Folder 0\n",
      "\tLen train : 720\n",
      "\tLen test : 180\n",
      "\tTrain DataLoader 0\n",
      "\t\t[torch.Size([100, 6])  torch.Size([100])]\n",
      "\tTrain DataLoader 1\n",
      "\t\t[torch.Size([100, 6])  torch.Size([100])]\n",
      "\tTrain DataLoader 2\n",
      "\t\t[torch.Size([100, 6])  torch.Size([100])]\n",
      "\tTrain DataLoader 3\n",
      "\t\t[torch.Size([100, 6])  torch.Size([100])]\n",
      "\tTrain DataLoader 4\n",
      "\t\t[torch.Size([100, 6])  torch.Size([100])]\n",
      "\tTrain DataLoader 5\n",
      "\t\t[torch.Size([100, 6])  torch.Size([100])]\n",
      "\tTrain DataLoader 6\n",
      "\t\t[torch.Size([100, 6])  torch.Size([100])]\n",
      "\tTrain DataLoader 7\n",
      "\t\t[torch.Size([20, 6])  torch.Size([20])]\n",
      "\tTest DataLoader 0\n",
      "\t\t[torch.Size([100, 6])  torch.Size([100])]\n",
      "\tTest DataLoader 1\n",
      "\t\t[torch.Size([80, 6])  torch.Size([80])]\n",
      "Folder 1\n",
      "\tLen train : 720\n",
      "\tLen test : 180\n",
      "\tTrain DataLoader 0\n",
      "\t\t[torch.Size([100, 6])  torch.Size([100])]\n",
      "\tTrain DataLoader 1\n",
      "\t\t[torch.Size([100, 6])  torch.Size([100])]\n",
      "\tTrain DataLoader 2\n",
      "\t\t[torch.Size([100, 6])  torch.Size([100])]\n",
      "\tTrain DataLoader 3\n",
      "\t\t[torch.Size([100, 6])  torch.Size([100])]\n",
      "\tTrain DataLoader 4\n",
      "\t\t[torch.Size([100, 6])  torch.Size([100])]\n",
      "\tTrain DataLoader 5\n",
      "\t\t[torch.Size([100, 6])  torch.Size([100])]\n",
      "\tTrain DataLoader 6\n",
      "\t\t[torch.Size([100, 6])  torch.Size([100])]\n",
      "\tTrain DataLoader 7\n",
      "\t\t[torch.Size([20, 6])  torch.Size([20])]\n",
      "\tTest DataLoader 0\n",
      "\t\t[torch.Size([100, 6])  torch.Size([100])]\n",
      "\tTest DataLoader 1\n",
      "\t\t[torch.Size([80, 6])  torch.Size([80])]\n",
      "Folder 2\n",
      "\tLen train : 720\n",
      "\tLen test : 180\n",
      "\tTrain DataLoader 0\n",
      "\t\t[torch.Size([100, 6])  torch.Size([100])]\n",
      "\tTrain DataLoader 1\n",
      "\t\t[torch.Size([100, 6])  torch.Size([100])]\n",
      "\tTrain DataLoader 2\n",
      "\t\t[torch.Size([100, 6])  torch.Size([100])]\n",
      "\tTrain DataLoader 3\n",
      "\t\t[torch.Size([100, 6])  torch.Size([100])]\n",
      "\tTrain DataLoader 4\n",
      "\t\t[torch.Size([100, 6])  torch.Size([100])]\n",
      "\tTrain DataLoader 5\n",
      "\t\t[torch.Size([100, 6])  torch.Size([100])]\n",
      "\tTrain DataLoader 6\n",
      "\t\t[torch.Size([100, 6])  torch.Size([100])]\n",
      "\tTrain DataLoader 7\n",
      "\t\t[torch.Size([20, 6])  torch.Size([20])]\n",
      "\tTest DataLoader 0\n",
      "\t\t[torch.Size([100, 6])  torch.Size([100])]\n",
      "\tTest DataLoader 1\n",
      "\t\t[torch.Size([80, 6])  torch.Size([80])]\n",
      "Folder 3\n",
      "\tLen train : 720\n",
      "\tLen test : 180\n",
      "\tTrain DataLoader 0\n",
      "\t\t[torch.Size([100, 6])  torch.Size([100])]\n",
      "\tTrain DataLoader 1\n",
      "\t\t[torch.Size([100, 6])  torch.Size([100])]\n",
      "\tTrain DataLoader 2\n",
      "\t\t[torch.Size([100, 6])  torch.Size([100])]\n",
      "\tTrain DataLoader 3\n",
      "\t\t[torch.Size([100, 6])  torch.Size([100])]\n",
      "\tTrain DataLoader 4\n",
      "\t\t[torch.Size([100, 6])  torch.Size([100])]\n",
      "\tTrain DataLoader 5\n",
      "\t\t[torch.Size([100, 6])  torch.Size([100])]\n",
      "\tTrain DataLoader 6\n",
      "\t\t[torch.Size([100, 6])  torch.Size([100])]\n",
      "\tTrain DataLoader 7\n",
      "\t\t[torch.Size([20, 6])  torch.Size([20])]\n",
      "\tTest DataLoader 0\n",
      "\t\t[torch.Size([100, 6])  torch.Size([100])]\n",
      "\tTest DataLoader 1\n",
      "\t\t[torch.Size([80, 6])  torch.Size([80])]\n",
      "Folder 4\n",
      "\tLen train : 720\n",
      "\tLen test : 180\n",
      "\tTrain DataLoader 0\n",
      "\t\t[torch.Size([100, 6])  torch.Size([100])]\n",
      "\tTrain DataLoader 1\n",
      "\t\t[torch.Size([100, 6])  torch.Size([100])]\n",
      "\tTrain DataLoader 2\n",
      "\t\t[torch.Size([100, 6])  torch.Size([100])]\n",
      "\tTrain DataLoader 3\n",
      "\t\t[torch.Size([100, 6])  torch.Size([100])]\n",
      "\tTrain DataLoader 4\n",
      "\t\t[torch.Size([100, 6])  torch.Size([100])]\n",
      "\tTrain DataLoader 5\n",
      "\t\t[torch.Size([100, 6])  torch.Size([100])]\n",
      "\tTrain DataLoader 6\n",
      "\t\t[torch.Size([100, 6])  torch.Size([100])]\n",
      "\tTrain DataLoader 7\n",
      "\t\t[torch.Size([20, 6])  torch.Size([20])]\n",
      "\tTest DataLoader 0\n",
      "\t\t[torch.Size([100, 6])  torch.Size([100])]\n",
      "\tTest DataLoader 1\n",
      "\t\t[torch.Size([80, 6])  torch.Size([80])]\n"
     ]
    }
   ],
   "source": [
    "train, test = train_test_split(dataset, train_size=0.9, test_size=0.1, random_state=42)\n",
    "print(\"Train : \"+str(len(train)))\n",
    "print(\"Test : \"+str(len(test)))\n",
    "\n",
    "kfold = KFold(5, shuffle=True, random_state=42)\n",
    "for n, (train_i, test_i) in enumerate(kfold.split(train)):\n",
    "    print(\"Folder \"+str(n))\n",
    "    print(\"\\tLen train : \"+str(len(train_i)))\n",
    "    print(\"\\tLen test : \"+str(len(test_i)))\n",
    "    \n",
    "    train_sampler = SubsetRandomSampler(train_i)\n",
    "    train_loader = DataLoader(train, 100, sampler=train_sampler)\n",
    "    for i, j in enumerate(train_loader):\n",
    "        print(\"\\tTrain DataLoader \"+str(i))\n",
    "        print(\"\\t\\t[\"+str(j[0].shape)+\"  \"+str(j[1].shape)+\"]\")\n",
    "        \n",
    "    test_sampler = SubsetRandomSampler(test_i)\n",
    "    test_loader = DataLoader(train, 100, sampler=test_sampler)\n",
    "    for i, j in enumerate(test_loader):\n",
    "        print(\"\\tTest DataLoader \"+str(i))\n",
    "        print(\"\\t\\t[\"+str(j[0].shape)+\"  \"+str(j[1].shape)+\"]\")"
   ]
  },
  {
   "cell_type": "code",
   "execution_count": 172,
   "metadata": {},
   "outputs": [],
   "source": [
    "class NeuralNetwork(nn.Module):\n",
    "    def __init__(self, n, v):\n",
    "        \"\"\"\n",
    "        w(int): taille fenêtre\n",
    "        n(int): taille embedding\n",
    "        v(int): taille vocab\n",
    "        \"\"\"\n",
    "        super(NeuralNetwork, self).__init__()\n",
    "        self.n = n\n",
    "        self.v = v\n",
    "        self.hidden1 = nn.Embedding(self.v, self.n, max_norm = True)\n",
    "        self.hidden2 = nn.Linear(self.n, self.v, bias = False)\n",
    "\n",
    "    def forward(self, input):\n",
    "        x = self.hidden1(input)\n",
    "        x = torch.mean(x, axis = 1)\n",
    "        x = self.hidden2(x)\n",
    "        return x\n",
    "        "
   ]
  },
  {
   "cell_type": "code",
   "execution_count": 173,
   "metadata": {},
   "outputs": [],
   "source": [
    "vocab_size = dataset.vocab_size\n",
    "myModule = NeuralNetwork(50, vocab_size)\n"
   ]
  },
  {
   "cell_type": "code",
   "execution_count": 176,
   "metadata": {},
   "outputs": [
    {
     "name": "stdout",
     "output_type": "stream",
     "text": [
      "Parameter containing:\n",
      "tensor([[-1.1878,  0.7412, -0.5329,  ..., -0.6887, -1.7609, -2.2322],\n",
      "        [ 1.0483, -0.7755,  0.0122,  ...,  0.5887, -1.0571,  0.1623],\n",
      "        [ 1.9819, -0.6975,  2.2825,  ...,  0.9734,  0.0047,  2.1734],\n",
      "        ...,\n",
      "        [-0.9758,  0.0923, -0.8815,  ...,  0.4994,  1.4007,  1.3084],\n",
      "        [ 1.3783, -0.1214,  0.2811,  ..., -1.1937, -0.2114,  0.6996],\n",
      "        [-1.6322, -0.1479, -1.9099,  ...,  0.1920, -1.3706, -0.7814]],\n",
      "       requires_grad=True)\n",
      "Parameter containing:\n",
      "tensor([[ 0.0712,  0.0380, -0.1403,  ..., -0.1286, -0.1104,  0.0313],\n",
      "        [ 0.1022, -0.0081,  0.0965,  ...,  0.1381,  0.0746,  0.0510],\n",
      "        [-0.1330,  0.0474, -0.1232,  ..., -0.1279,  0.1160, -0.0017],\n",
      "        ...,\n",
      "        [ 0.0112, -0.1113, -0.0643,  ..., -0.0064,  0.0029,  0.0332],\n",
      "        [-0.0789,  0.1259,  0.0034,  ...,  0.0312, -0.0469,  0.0534],\n",
      "        [-0.1103, -0.0588,  0.1194,  ...,  0.1006,  0.1278,  0.0237]],\n",
      "       requires_grad=True)\n"
     ]
    }
   ],
   "source": [
    "for p in myModule.parameters():\n",
    "    print(p)"
   ]
  },
  {
   "cell_type": "markdown",
   "metadata": {},
   "source": []
  },
  {
   "cell_type": "code",
   "execution_count": 156,
   "metadata": {},
   "outputs": [],
   "source": [
    "input, target = next(iter(dataloader))\n",
    "x = myModule(input)"
   ]
  },
  {
   "cell_type": "code",
   "execution_count": 157,
   "metadata": {},
   "outputs": [
    {
     "name": "stdout",
     "output_type": "stream",
     "text": [
      "torch.Size([100, 12761])\n"
     ]
    }
   ],
   "source": [
    "print(x.shape)"
   ]
  },
  {
   "cell_type": "code",
   "execution_count": null,
   "metadata": {},
   "outputs": [],
   "source": []
  }
 ],
 "metadata": {
  "kernelspec": {
   "display_name": "Python 3 (ipykernel)",
   "language": "python",
   "name": "python3"
  },
  "language_info": {
   "codemirror_mode": {
    "name": "ipython",
    "version": 3
   },
   "file_extension": ".py",
   "mimetype": "text/x-python",
   "name": "python",
   "nbconvert_exporter": "python",
   "pygments_lexer": "ipython3",
   "version": "3.9.7"
  },
  "vscode": {
   "interpreter": {
    "hash": "31f2aee4e71d21fbe5cf8b01ff0e069b9275f58929596ceb00d14d90e3e16cd6"
   }
  }
 },
 "nbformat": 4,
 "nbformat_minor": 2
}
